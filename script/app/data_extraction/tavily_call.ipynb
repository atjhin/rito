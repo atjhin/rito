{
 "cells": [
  {
   "cell_type": "code",
   "execution_count": 6,
   "id": "2d220b8a",
   "metadata": {},
   "outputs": [
    {
     "name": "stdout",
     "output_type": "stream",
     "text": [
      "Requirement already satisfied: langchain-tavily in /Users/annaxu/Library/CloudStorage/OneDrive-UniversityofToronto/U of T Studies/CSC2701/rito/.env/lib/python3.12/site-packages (0.2.11)\n",
      "Requirement already satisfied: aiohttp<4.0.0,>=3.11.14 in /Users/annaxu/Library/CloudStorage/OneDrive-UniversityofToronto/U of T Studies/CSC2701/rito/.env/lib/python3.12/site-packages (from langchain-tavily) (3.12.15)\n",
      "Requirement already satisfied: langchain<0.4.0,>=0.3.20 in /Users/annaxu/Library/CloudStorage/OneDrive-UniversityofToronto/U of T Studies/CSC2701/rito/.env/lib/python3.12/site-packages (from langchain-tavily) (0.3.27)\n",
      "Requirement already satisfied: langchain-core<0.4.0,>=0.3.15 in /Users/annaxu/Library/CloudStorage/OneDrive-UniversityofToronto/U of T Studies/CSC2701/rito/.env/lib/python3.12/site-packages (from langchain-tavily) (0.3.77)\n",
      "Requirement already satisfied: requests<3.0.0,>=2.32.3 in /Users/annaxu/Library/CloudStorage/OneDrive-UniversityofToronto/U of T Studies/CSC2701/rito/.env/lib/python3.12/site-packages (from langchain-tavily) (2.32.5)\n",
      "Requirement already satisfied: aiohappyeyeballs>=2.5.0 in /Users/annaxu/Library/CloudStorage/OneDrive-UniversityofToronto/U of T Studies/CSC2701/rito/.env/lib/python3.12/site-packages (from aiohttp<4.0.0,>=3.11.14->langchain-tavily) (2.6.1)\n",
      "Requirement already satisfied: aiosignal>=1.4.0 in /Users/annaxu/Library/CloudStorage/OneDrive-UniversityofToronto/U of T Studies/CSC2701/rito/.env/lib/python3.12/site-packages (from aiohttp<4.0.0,>=3.11.14->langchain-tavily) (1.4.0)\n",
      "Requirement already satisfied: attrs>=17.3.0 in /Users/annaxu/Library/CloudStorage/OneDrive-UniversityofToronto/U of T Studies/CSC2701/rito/.env/lib/python3.12/site-packages (from aiohttp<4.0.0,>=3.11.14->langchain-tavily) (25.3.0)\n",
      "Requirement already satisfied: frozenlist>=1.1.1 in /Users/annaxu/Library/CloudStorage/OneDrive-UniversityofToronto/U of T Studies/CSC2701/rito/.env/lib/python3.12/site-packages (from aiohttp<4.0.0,>=3.11.14->langchain-tavily) (1.7.0)\n",
      "Requirement already satisfied: multidict<7.0,>=4.5 in /Users/annaxu/Library/CloudStorage/OneDrive-UniversityofToronto/U of T Studies/CSC2701/rito/.env/lib/python3.12/site-packages (from aiohttp<4.0.0,>=3.11.14->langchain-tavily) (6.6.4)\n",
      "Requirement already satisfied: propcache>=0.2.0 in /Users/annaxu/Library/CloudStorage/OneDrive-UniversityofToronto/U of T Studies/CSC2701/rito/.env/lib/python3.12/site-packages (from aiohttp<4.0.0,>=3.11.14->langchain-tavily) (0.3.2)\n",
      "Requirement already satisfied: yarl<2.0,>=1.17.0 in /Users/annaxu/Library/CloudStorage/OneDrive-UniversityofToronto/U of T Studies/CSC2701/rito/.env/lib/python3.12/site-packages (from aiohttp<4.0.0,>=3.11.14->langchain-tavily) (1.20.1)\n",
      "Requirement already satisfied: langchain-text-splitters<1.0.0,>=0.3.9 in /Users/annaxu/Library/CloudStorage/OneDrive-UniversityofToronto/U of T Studies/CSC2701/rito/.env/lib/python3.12/site-packages (from langchain<0.4.0,>=0.3.20->langchain-tavily) (0.3.11)\n",
      "Requirement already satisfied: langsmith>=0.1.17 in /Users/annaxu/Library/CloudStorage/OneDrive-UniversityofToronto/U of T Studies/CSC2701/rito/.env/lib/python3.12/site-packages (from langchain<0.4.0,>=0.3.20->langchain-tavily) (0.4.32)\n",
      "Requirement already satisfied: pydantic<3.0.0,>=2.7.4 in /Users/annaxu/Library/CloudStorage/OneDrive-UniversityofToronto/U of T Studies/CSC2701/rito/.env/lib/python3.12/site-packages (from langchain<0.4.0,>=0.3.20->langchain-tavily) (2.11.9)\n",
      "Requirement already satisfied: SQLAlchemy<3,>=1.4 in /Users/annaxu/Library/CloudStorage/OneDrive-UniversityofToronto/U of T Studies/CSC2701/rito/.env/lib/python3.12/site-packages (from langchain<0.4.0,>=0.3.20->langchain-tavily) (2.0.43)\n",
      "Requirement already satisfied: PyYAML>=5.3 in /Users/annaxu/Library/CloudStorage/OneDrive-UniversityofToronto/U of T Studies/CSC2701/rito/.env/lib/python3.12/site-packages (from langchain<0.4.0,>=0.3.20->langchain-tavily) (6.0.3)\n",
      "Requirement already satisfied: tenacity!=8.4.0,<10.0.0,>=8.1.0 in /Users/annaxu/Library/CloudStorage/OneDrive-UniversityofToronto/U of T Studies/CSC2701/rito/.env/lib/python3.12/site-packages (from langchain-core<0.4.0,>=0.3.15->langchain-tavily) (9.1.2)\n",
      "Requirement already satisfied: jsonpatch<2.0.0,>=1.33.0 in /Users/annaxu/Library/CloudStorage/OneDrive-UniversityofToronto/U of T Studies/CSC2701/rito/.env/lib/python3.12/site-packages (from langchain-core<0.4.0,>=0.3.15->langchain-tavily) (1.33)\n",
      "Requirement already satisfied: typing-extensions<5.0.0,>=4.7.0 in /Users/annaxu/Library/CloudStorage/OneDrive-UniversityofToronto/U of T Studies/CSC2701/rito/.env/lib/python3.12/site-packages (from langchain-core<0.4.0,>=0.3.15->langchain-tavily) (4.15.0)\n",
      "Requirement already satisfied: packaging<26.0.0,>=23.2.0 in /Users/annaxu/Library/CloudStorage/OneDrive-UniversityofToronto/U of T Studies/CSC2701/rito/.env/lib/python3.12/site-packages (from langchain-core<0.4.0,>=0.3.15->langchain-tavily) (25.0)\n",
      "Requirement already satisfied: charset_normalizer<4,>=2 in /Users/annaxu/Library/CloudStorage/OneDrive-UniversityofToronto/U of T Studies/CSC2701/rito/.env/lib/python3.12/site-packages (from requests<3.0.0,>=2.32.3->langchain-tavily) (3.4.3)\n",
      "Requirement already satisfied: idna<4,>=2.5 in /Users/annaxu/Library/CloudStorage/OneDrive-UniversityofToronto/U of T Studies/CSC2701/rito/.env/lib/python3.12/site-packages (from requests<3.0.0,>=2.32.3->langchain-tavily) (3.10)\n",
      "Requirement already satisfied: urllib3<3,>=1.21.1 in /Users/annaxu/Library/CloudStorage/OneDrive-UniversityofToronto/U of T Studies/CSC2701/rito/.env/lib/python3.12/site-packages (from requests<3.0.0,>=2.32.3->langchain-tavily) (2.5.0)\n",
      "Requirement already satisfied: certifi>=2017.4.17 in /Users/annaxu/Library/CloudStorage/OneDrive-UniversityofToronto/U of T Studies/CSC2701/rito/.env/lib/python3.12/site-packages (from requests<3.0.0,>=2.32.3->langchain-tavily) (2025.8.3)\n",
      "Requirement already satisfied: jsonpointer>=1.9 in /Users/annaxu/Library/CloudStorage/OneDrive-UniversityofToronto/U of T Studies/CSC2701/rito/.env/lib/python3.12/site-packages (from jsonpatch<2.0.0,>=1.33.0->langchain-core<0.4.0,>=0.3.15->langchain-tavily) (3.0.0)\n",
      "Requirement already satisfied: httpx<1,>=0.23.0 in /Users/annaxu/Library/CloudStorage/OneDrive-UniversityofToronto/U of T Studies/CSC2701/rito/.env/lib/python3.12/site-packages (from langsmith>=0.1.17->langchain<0.4.0,>=0.3.20->langchain-tavily) (0.28.1)\n",
      "Requirement already satisfied: orjson>=3.9.14 in /Users/annaxu/Library/CloudStorage/OneDrive-UniversityofToronto/U of T Studies/CSC2701/rito/.env/lib/python3.12/site-packages (from langsmith>=0.1.17->langchain<0.4.0,>=0.3.20->langchain-tavily) (3.11.3)\n",
      "Requirement already satisfied: requests-toolbelt>=1.0.0 in /Users/annaxu/Library/CloudStorage/OneDrive-UniversityofToronto/U of T Studies/CSC2701/rito/.env/lib/python3.12/site-packages (from langsmith>=0.1.17->langchain<0.4.0,>=0.3.20->langchain-tavily) (1.0.0)\n",
      "Requirement already satisfied: zstandard>=0.23.0 in /Users/annaxu/Library/CloudStorage/OneDrive-UniversityofToronto/U of T Studies/CSC2701/rito/.env/lib/python3.12/site-packages (from langsmith>=0.1.17->langchain<0.4.0,>=0.3.20->langchain-tavily) (0.25.0)\n",
      "Requirement already satisfied: annotated-types>=0.6.0 in /Users/annaxu/Library/CloudStorage/OneDrive-UniversityofToronto/U of T Studies/CSC2701/rito/.env/lib/python3.12/site-packages (from pydantic<3.0.0,>=2.7.4->langchain<0.4.0,>=0.3.20->langchain-tavily) (0.7.0)\n",
      "Requirement already satisfied: pydantic-core==2.33.2 in /Users/annaxu/Library/CloudStorage/OneDrive-UniversityofToronto/U of T Studies/CSC2701/rito/.env/lib/python3.12/site-packages (from pydantic<3.0.0,>=2.7.4->langchain<0.4.0,>=0.3.20->langchain-tavily) (2.33.2)\n",
      "Requirement already satisfied: typing-inspection>=0.4.0 in /Users/annaxu/Library/CloudStorage/OneDrive-UniversityofToronto/U of T Studies/CSC2701/rito/.env/lib/python3.12/site-packages (from pydantic<3.0.0,>=2.7.4->langchain<0.4.0,>=0.3.20->langchain-tavily) (0.4.2)\n",
      "Requirement already satisfied: anyio in /Users/annaxu/Library/CloudStorage/OneDrive-UniversityofToronto/U of T Studies/CSC2701/rito/.env/lib/python3.12/site-packages (from httpx<1,>=0.23.0->langsmith>=0.1.17->langchain<0.4.0,>=0.3.20->langchain-tavily) (4.11.0)\n",
      "Requirement already satisfied: httpcore==1.* in /Users/annaxu/Library/CloudStorage/OneDrive-UniversityofToronto/U of T Studies/CSC2701/rito/.env/lib/python3.12/site-packages (from httpx<1,>=0.23.0->langsmith>=0.1.17->langchain<0.4.0,>=0.3.20->langchain-tavily) (1.0.9)\n",
      "Requirement already satisfied: h11>=0.16 in /Users/annaxu/Library/CloudStorage/OneDrive-UniversityofToronto/U of T Studies/CSC2701/rito/.env/lib/python3.12/site-packages (from httpcore==1.*->httpx<1,>=0.23.0->langsmith>=0.1.17->langchain<0.4.0,>=0.3.20->langchain-tavily) (0.16.0)\n",
      "Requirement already satisfied: sniffio>=1.1 in /Users/annaxu/Library/CloudStorage/OneDrive-UniversityofToronto/U of T Studies/CSC2701/rito/.env/lib/python3.12/site-packages (from anyio->httpx<1,>=0.23.0->langsmith>=0.1.17->langchain<0.4.0,>=0.3.20->langchain-tavily) (1.3.1)\n",
      "\n",
      "\u001b[1m[\u001b[0m\u001b[34;49mnotice\u001b[0m\u001b[1;39;49m]\u001b[0m\u001b[39;49m A new release of pip is available: \u001b[0m\u001b[31;49m23.2.1\u001b[0m\u001b[39;49m -> \u001b[0m\u001b[32;49m25.2\u001b[0m\n",
      "\u001b[1m[\u001b[0m\u001b[34;49mnotice\u001b[0m\u001b[1;39;49m]\u001b[0m\u001b[39;49m To update, run: \u001b[0m\u001b[32;49mpip install --upgrade pip\u001b[0m\n",
      "Note: you may need to restart the kernel to use updated packages.\n"
     ]
    }
   ],
   "source": [
    "pip install langchain-tavily"
   ]
  },
  {
   "cell_type": "code",
   "execution_count": 15,
   "id": "da1cb0c6",
   "metadata": {},
   "outputs": [],
   "source": [
    "from langchain_tavily import TavilySearch\n",
    "import json\n",
    "\n",
    "\n",
    "tool = TavilySearch(\n",
    "    max_results=5,\n",
    "    topic=\"general\",\n",
    "    include_answer=\"advanced\",\n",
    ")\n",
    "\n",
    "def call_on_tavily(query: str, id: str = \"1\"):\n",
    "    model_generated_tool_call = {\n",
    "        \"args\": {\"query\": query},\n",
    "        \"id\": id,\n",
    "        \"name\": \"tavily\",\n",
    "        \"type\": \"tool_call\",\n",
    "    }\n",
    "    tool_msg = tool.invoke(model_generated_tool_call)\n",
    "    ans = json.loads(tool_msg.content)\n",
    "    return ans\n"
   ]
  },
  {
   "cell_type": "code",
   "execution_count": 23,
   "id": "17d7f172",
   "metadata": {},
   "outputs": [
    {
     "name": "stdout",
     "output_type": "stream",
     "text": [
      "Zoe is an ancient and powerful being in the League of Legends universe, known as the Aspect of Twilight. Originally a normal girl from the foothills of Mount Targon thousands of years ago, she caught the attention of a celestial Aspect due to her mischievous and playful nature. This Aspect, delighted by Zoe's carefree exuberance, offered her a chance to see the universe by opening a portal to the apex of Mount Targon. Zoe accepted and traveled to the stars, where she encountered the cosmic dragon Aurelion Sol. Now, as the Aspect of Twilight, Zoe possesses immense magical power, including the ability to create destructive comets and travel across the universe using portals. Despite her appearance as a young girl, she is one of the oldest champions in the League of Legends lore, born between 550 BN and 400 BN, making her essentially a god-like entity.\n"
     ]
    }
   ],
   "source": [
    "model_generated_tool_call = {\n",
    "    \"args\": {\"query\": \"In league of legends lore, who is Zoe and what is her background story (biography)?\"},\n",
    "    \"id\": \"1\",\n",
    "    \"name\": \"tavily\",\n",
    "    \"type\": \"tool_call\",\n",
    "}\n",
    "tool_msg = tool.invoke(model_generated_tool_call)\n",
    "ans = json.loads(tool_msg.content)\n",
    "print(ans['answer'])\n"
   ]
  },
  {
   "cell_type": "code",
   "execution_count": 20,
   "id": "d32149a9",
   "metadata": {},
   "outputs": [
    {
     "name": "stdout",
     "output_type": "stream",
     "text": [
      "Zoe is a heterochromic champion, meaning she has two different colored eyes, making her the first champion in League of Legends to have this distinctive trait which is preserved across all her skins. Her hair was considered a crucial element of her visual design and silhouette, requiring multiple advanced techniques and technologies to bring it to life in the game. Despite appearing as a young girl, Zoe is actually much older than she looks, being over 1,000 years old after becoming the Aspect of Twilight millennia ago when she was originally a small human girl from the Lunari people in the Targonian region of Valoran. As the cosmic messenger of Targon and embodiment of mischief, imagination, and change, her youthful appearance contrasts with her ancient age and vast experience traversing galaxies and jumping through black holes across the cosmos.\n"
     ]
    }
   ],
   "source": [
    "model_generated_tool_call = {\n",
    "    \"args\": {\"query\": \"In league of legends lore, what is the champion Zoe's appearance?\"},\n",
    "    \"id\": \"1\",\n",
    "    \"name\": \"tavily\",\n",
    "    \"type\": \"tool_call\",\n",
    "}\n",
    "tool_msg = tool.invoke(model_generated_tool_call)\n",
    "ans = json.loads(tool_msg.content)\n",
    "print(ans['answer'])\n",
    "\n"
   ]
  },
  {
   "cell_type": "code",
   "execution_count": 21,
   "id": "afbbb275",
   "metadata": {},
   "outputs": [
    {
     "name": "stdout",
     "output_type": "stream",
     "text": [
      "Zoe is a heterochromic champion, meaning she has two different colored eyes, making her the first champion in League of Legends to have this distinctive trait which is preserved across all her skins. Her hair was considered a crucial element of her visual design and silhouette, requiring multiple advanced techniques and technologies to bring it to life in the game. Despite appearing as a young girl, Zoe is actually much older than she looks, being over 1,000 years old after becoming the Aspect of Twilight millennia ago when she was originally a small human girl from the Lunari people in the Targonian region of Valoran. As the cosmic messenger of Targon and embodiment of mischief, imagination, and change, her youthful appearance contrasts with her ancient age and vast experience traversing galaxies and jumping through black holes across the cosmos.\n",
      "dict_keys(['query', 'follow_up_questions', 'answer', 'images', 'results', 'response_time', 'request_id'])\n"
     ]
    }
   ],
   "source": [
    "print(ans['answer'])\n",
    "print(ans.keys())"
   ]
  },
  {
   "cell_type": "code",
   "execution_count": 22,
   "id": "ce542ba2",
   "metadata": {},
   "outputs": [],
   "source": [
    "# dump the results in a test json file\n",
    "with open('tavily_test_2.json', 'w') as f:\n",
    "    json.dump(ans, f, indent=4)"
   ]
  },
  {
   "cell_type": "code",
   "execution_count": null,
   "id": "9030c663",
   "metadata": {},
   "outputs": [],
   "source": []
  }
 ],
 "metadata": {
  "kernelspec": {
   "display_name": ".env",
   "language": "python",
   "name": "python3"
  },
  "language_info": {
   "codemirror_mode": {
    "name": "ipython",
    "version": 3
   },
   "file_extension": ".py",
   "mimetype": "text/x-python",
   "name": "python",
   "nbconvert_exporter": "python",
   "pygments_lexer": "ipython3",
   "version": "3.12.0"
  }
 },
 "nbformat": 4,
 "nbformat_minor": 5
}
